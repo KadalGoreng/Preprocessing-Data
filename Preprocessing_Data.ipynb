{
  "nbformat": 4,
  "nbformat_minor": 0,
  "metadata": {
    "colab": {
      "name": "Preprocessing Data.ipynb",
      "provenance": [],
      "collapsed_sections": [],
      "toc_visible": true
    },
    "kernelspec": {
      "name": "python3",
      "display_name": "Python 3"
    },
    "language_info": {
      "name": "python"
    }
  },
  "cells": [
    {
      "cell_type": "code",
      "metadata": {
        "id": "ZDubYKBk9R7Q"
      },
      "source": [
        "import numpy as np\n",
        "import matplotlib.pyplot as plt\n",
        "import pandas as pd"
      ],
      "execution_count": null,
      "outputs": []
    },
    {
      "cell_type": "code",
      "metadata": {
        "id": "2g1yos7O9yNe"
      },
      "source": [
        "dataset = pd.read_csv(\"Dataa.csv\")\n",
        "x = dataset.iloc[:, :-1].values\n",
        "y = dataset.iloc[:, -1].values"
      ],
      "execution_count": null,
      "outputs": []
    },
    {
      "cell_type": "code",
      "metadata": {
        "colab": {
          "base_uri": "https://localhost:8080/"
        },
        "id": "4--w68rD94q-",
        "outputId": "69e8d854-8164-4ae5-d9a2-0d015d556bc6"
      },
      "source": [
        "print(x)"
      ],
      "execution_count": null,
      "outputs": [
        {
          "output_type": "stream",
          "text": [
            "[['Cerah' 'Tidak' 85.0 85.0]\n",
            " ['Cerah' 'Ya' 90.0 80.0]\n",
            " ['Mendung' 'Tidak' 78.0 83.0]\n",
            " ['Hujan' 'Tidak' 96.0 70.0]\n",
            " ['Hujan' 'Tidak' nan 68.0]\n",
            " ['Hujan' 'Ya' 70.0 65.0]\n",
            " ['Mendung' 'Ya' 65.0 64.0]\n",
            " ['Cerah' 'Tidak' 95.0 72.0]\n",
            " ['Cerah' 'Tidak' 70.0 69.0]\n",
            " ['Hujan' 'Tidak' 80.0 75.0]\n",
            " ['Cerah' 'Ya' 70.0 nan]\n",
            " ['Mendung' 'Ya' 90.0 72.0]\n",
            " ['Mendung' 'Tidak' 75.0 81.0]\n",
            " ['Hujan' 'Ya' 80.0 71.0]\n",
            " ['Hujan' 'Tidak' 65.0 78.0]]\n"
          ],
          "name": "stdout"
        }
      ]
    },
    {
      "cell_type": "code",
      "metadata": {
        "colab": {
          "base_uri": "https://localhost:8080/"
        },
        "id": "tvzaeMK396Ci",
        "outputId": "714f8609-cbd3-4b93-cd09-9a2aa4d213c5"
      },
      "source": [
        "print(y)"
      ],
      "execution_count": null,
      "outputs": [
        {
          "output_type": "stream",
          "text": [
            "['Tidak' 'Tidak' 'Ya' 'Ya' 'Ya' 'Tidak' 'Ya' 'Tidak' 'Ya' 'Ya' 'Ya' 'Ya'\n",
            " 'Ya' 'Tidak' 'Ya']\n"
          ],
          "name": "stdout"
        }
      ]
    },
    {
      "cell_type": "code",
      "metadata": {
        "id": "9XBF2Rz8-BEz"
      },
      "source": [
        "from sklearn.impute import SimpleImputer\n",
        "imputer = SimpleImputer(missing_values=np.nan, strategy=\"mean\")\n",
        "imputer.fit(x[:, 2:4])\n",
        "x[:, 2:4] = imputer.transform(x[:, 2:4])"
      ],
      "execution_count": null,
      "outputs": []
    },
    {
      "cell_type": "code",
      "metadata": {
        "colab": {
          "base_uri": "https://localhost:8080/"
        },
        "id": "67Pm6Sji-EKX",
        "outputId": "7d20a6ff-e6a4-49bd-9a88-9fb1d3384236"
      },
      "source": [
        "print(x)"
      ],
      "execution_count": null,
      "outputs": [
        {
          "output_type": "stream",
          "text": [
            "[['Cerah' 'Tidak' 85.0 85.0]\n",
            " ['Cerah' 'Ya' 90.0 80.0]\n",
            " ['Mendung' 'Tidak' 78.0 83.0]\n",
            " ['Hujan' 'Tidak' 96.0 70.0]\n",
            " ['Hujan' 'Tidak' 79.21428571428571 68.0]\n",
            " ['Hujan' 'Ya' 70.0 65.0]\n",
            " ['Mendung' 'Ya' 65.0 64.0]\n",
            " ['Cerah' 'Tidak' 95.0 72.0]\n",
            " ['Cerah' 'Tidak' 70.0 69.0]\n",
            " ['Hujan' 'Tidak' 80.0 75.0]\n",
            " ['Cerah' 'Ya' 70.0 73.78571428571429]\n",
            " ['Mendung' 'Ya' 90.0 72.0]\n",
            " ['Mendung' 'Tidak' 75.0 81.0]\n",
            " ['Hujan' 'Ya' 80.0 71.0]\n",
            " ['Hujan' 'Tidak' 65.0 78.0]]\n"
          ],
          "name": "stdout"
        }
      ]
    },
    {
      "cell_type": "code",
      "metadata": {
        "id": "tWllvVlK-IO-"
      },
      "source": [
        "from sklearn.compose import ColumnTransformer\n",
        "from sklearn.preprocessing import OneHotEncoder\n",
        "ct = ColumnTransformer(transformers=[(\"encoder\", OneHotEncoder(), [0,1])], remainder=\"passthrough\" )\n",
        "x = np.array(ct.fit_transform(x))"
      ],
      "execution_count": null,
      "outputs": []
    },
    {
      "cell_type": "code",
      "metadata": {
        "colab": {
          "base_uri": "https://localhost:8080/"
        },
        "id": "L_h2tRve-J_n",
        "outputId": "502b4c49-5e65-4436-b0e7-024d9999f6ca"
      },
      "source": [
        "print(x)"
      ],
      "execution_count": null,
      "outputs": [
        {
          "output_type": "stream",
          "text": [
            "[[1.0 0.0 0.0 1.0 0.0 85.0 85.0]\n",
            " [1.0 0.0 0.0 0.0 1.0 90.0 80.0]\n",
            " [0.0 0.0 1.0 1.0 0.0 78.0 83.0]\n",
            " [0.0 1.0 0.0 1.0 0.0 96.0 70.0]\n",
            " [0.0 1.0 0.0 1.0 0.0 79.21428571428571 68.0]\n",
            " [0.0 1.0 0.0 0.0 1.0 70.0 65.0]\n",
            " [0.0 0.0 1.0 0.0 1.0 65.0 64.0]\n",
            " [1.0 0.0 0.0 1.0 0.0 95.0 72.0]\n",
            " [1.0 0.0 0.0 1.0 0.0 70.0 69.0]\n",
            " [0.0 1.0 0.0 1.0 0.0 80.0 75.0]\n",
            " [1.0 0.0 0.0 0.0 1.0 70.0 73.78571428571429]\n",
            " [0.0 0.0 1.0 0.0 1.0 90.0 72.0]\n",
            " [0.0 0.0 1.0 1.0 0.0 75.0 81.0]\n",
            " [0.0 1.0 0.0 0.0 1.0 80.0 71.0]\n",
            " [0.0 1.0 0.0 1.0 0.0 65.0 78.0]]\n"
          ],
          "name": "stdout"
        }
      ]
    },
    {
      "cell_type": "code",
      "metadata": {
        "id": "dg9Kvr8n-UM9"
      },
      "source": [
        "from sklearn.preprocessing import LabelEncoder\n",
        "le = LabelEncoder()\n",
        "y = le.fit_transform(y)"
      ],
      "execution_count": null,
      "outputs": []
    },
    {
      "cell_type": "code",
      "metadata": {
        "colab": {
          "base_uri": "https://localhost:8080/"
        },
        "id": "W2oUzV9g-XX2",
        "outputId": "95d5149a-7a17-4edd-fbba-76223d53c740"
      },
      "source": [
        "print(y)"
      ],
      "execution_count": null,
      "outputs": [
        {
          "output_type": "stream",
          "text": [
            "[0 0 1 1 1 0 1 0 1 1 1 1 1 0 1]\n"
          ],
          "name": "stdout"
        }
      ]
    },
    {
      "cell_type": "code",
      "metadata": {
        "id": "4u9IB6Cb-cZd"
      },
      "source": [
        "from sklearn.model_selection import train_test_split\n",
        "x_train, x_test, y_train, y_test = train_test_split(x, y, test_size=0.2, random_state=1)"
      ],
      "execution_count": null,
      "outputs": []
    },
    {
      "cell_type": "code",
      "metadata": {
        "colab": {
          "base_uri": "https://localhost:8080/"
        },
        "id": "fRcncqzA-ecP",
        "outputId": "436f7aa4-74fe-47ba-a550-4f9c4f9ee77a"
      },
      "source": [
        "print(x_train)"
      ],
      "execution_count": null,
      "outputs": [
        {
          "output_type": "stream",
          "text": [
            "[[0.0 0.0 1.0 1.0 0.0 78.0 83.0]\n",
            " [1.0 0.0 0.0 0.0 1.0 70.0 73.78571428571429]\n",
            " [0.0 1.0 0.0 1.0 0.0 79.21428571428571 68.0]\n",
            " [1.0 0.0 0.0 0.0 1.0 90.0 80.0]\n",
            " [0.0 1.0 0.0 0.0 1.0 80.0 71.0]\n",
            " [1.0 0.0 0.0 1.0 0.0 85.0 85.0]\n",
            " [0.0 1.0 0.0 1.0 0.0 65.0 78.0]\n",
            " [0.0 1.0 0.0 1.0 0.0 80.0 75.0]\n",
            " [1.0 0.0 0.0 1.0 0.0 70.0 69.0]\n",
            " [0.0 0.0 1.0 1.0 0.0 75.0 81.0]\n",
            " [0.0 0.0 1.0 0.0 1.0 90.0 72.0]\n",
            " [0.0 1.0 0.0 0.0 1.0 70.0 65.0]]\n"
          ],
          "name": "stdout"
        }
      ]
    },
    {
      "cell_type": "code",
      "metadata": {
        "colab": {
          "base_uri": "https://localhost:8080/"
        },
        "id": "kzkhcm0q-fw9",
        "outputId": "1c1a31ab-db39-4dfc-a96c-9108a8fbaaf3"
      },
      "source": [
        "print(x_test)"
      ],
      "execution_count": null,
      "outputs": [
        {
          "output_type": "stream",
          "text": [
            "[[0.0 1.0 0.0 1.0 0.0 96.0 70.0]\n",
            " [1.0 0.0 0.0 1.0 0.0 95.0 72.0]\n",
            " [0.0 0.0 1.0 0.0 1.0 65.0 64.0]]\n"
          ],
          "name": "stdout"
        }
      ]
    },
    {
      "cell_type": "code",
      "metadata": {
        "colab": {
          "base_uri": "https://localhost:8080/"
        },
        "id": "UPal8kYH-h-c",
        "outputId": "7f9b9145-5c5c-4715-b886-ad8c6ef46f2d"
      },
      "source": [
        "print(y_train)"
      ],
      "execution_count": null,
      "outputs": [
        {
          "output_type": "stream",
          "text": [
            "[1 1 1 0 0 0 1 1 1 1 1 0]\n"
          ],
          "name": "stdout"
        }
      ]
    },
    {
      "cell_type": "code",
      "metadata": {
        "colab": {
          "base_uri": "https://localhost:8080/"
        },
        "id": "_hszhkNB-kv4",
        "outputId": "3367326c-ee54-49b9-ee8e-132940fe063c"
      },
      "source": [
        "print(y_test)"
      ],
      "execution_count": null,
      "outputs": [
        {
          "output_type": "stream",
          "text": [
            "[1 0 1]\n"
          ],
          "name": "stdout"
        }
      ]
    }
  ]
}